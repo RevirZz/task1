{
  "nbformat": 4,
  "nbformat_minor": 0,
  "metadata": {
    "colab": {
      "name": "Привет, Мир!.ipynb",
      "provenance": [],
      "collapsed_sections": []
    },
    "kernelspec": {
      "name": "python3",
      "display_name": "Python 3"
    }
  },
  "cells": [
    {
      "cell_type": "markdown",
      "metadata": {
        "id": "MCQhVLjINcvV"
      },
      "source": [
        "Колесников Степан Андреевич, КИ19-20Б"
      ]
    },
    {
      "cell_type": "code",
      "metadata": {
        "colab": {
          "base_uri": "https://localhost:8080/"
        },
        "id": "hUt4Rhw7Nu_M",
        "outputId": "bd65155f-6b98-4c90-ec00-d3284e3500d7"
      },
      "source": [
        "print (\"Привет, мир!\")"
      ],
      "execution_count": 3,
      "outputs": [
        {
          "output_type": "stream",
          "text": [
            "Привет мир\n"
          ],
          "name": "stdout"
        }
      ]
    }
  ]
}